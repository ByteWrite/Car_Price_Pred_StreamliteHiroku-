{
 "cells": [
  {
   "cell_type": "code",
   "execution_count": 1,
   "id": "ff53448c",
   "metadata": {},
   "outputs": [],
   "source": [
    "import numpy as np\n",
    "# numpy alised as np\n",
    "import pandas as pd \n",
    "# Pandas alised as pd\n",
    "import matplotlib.pyplot as plt\n",
    "# matplotlib.pyplot alised as plt\n",
    "import seaborn as sns\n",
    "# seaborn alised as sns"
   ]
  },
  {
   "cell_type": "markdown",
   "id": "f346092a",
   "metadata": {},
   "source": [
    "#### Read the Dataset"
   ]
  },
  {
   "cell_type": "code",
   "execution_count": 3,
   "id": "852263e8",
   "metadata": {},
   "outputs": [
    {
     "name": "stdout",
     "output_type": "stream",
     "text": [
      "<class 'pandas.core.frame.DataFrame'>\n"
     ]
    },
    {
     "data": {
      "text/html": [
       "<div>\n",
       "<style scoped>\n",
       "    .dataframe tbody tr th:only-of-type {\n",
       "        vertical-align: middle;\n",
       "    }\n",
       "\n",
       "    .dataframe tbody tr th {\n",
       "        vertical-align: top;\n",
       "    }\n",
       "\n",
       "    .dataframe thead th {\n",
       "        text-align: right;\n",
       "    }\n",
       "</style>\n",
       "<table border=\"1\" class=\"dataframe\">\n",
       "  <thead>\n",
       "    <tr style=\"text-align: right;\">\n",
       "      <th></th>\n",
       "      <th>name</th>\n",
       "      <th>Brand</th>\n",
       "      <th>year</th>\n",
       "      <th>selling_price</th>\n",
       "      <th>km_driven</th>\n",
       "      <th>fuel</th>\n",
       "      <th>seller_type</th>\n",
       "      <th>transmission</th>\n",
       "      <th>owner</th>\n",
       "    </tr>\n",
       "  </thead>\n",
       "  <tbody>\n",
       "    <tr>\n",
       "      <th>0</th>\n",
       "      <td>Maruti 800 AC</td>\n",
       "      <td>Maruti</td>\n",
       "      <td>2007</td>\n",
       "      <td>60000</td>\n",
       "      <td>70000</td>\n",
       "      <td>Petrol</td>\n",
       "      <td>Individual</td>\n",
       "      <td>Manual</td>\n",
       "      <td>First Owner</td>\n",
       "    </tr>\n",
       "    <tr>\n",
       "      <th>1</th>\n",
       "      <td>Maruti Wagon R LXI Minor</td>\n",
       "      <td>Maruti</td>\n",
       "      <td>2007</td>\n",
       "      <td>135000</td>\n",
       "      <td>50000</td>\n",
       "      <td>Petrol</td>\n",
       "      <td>Individual</td>\n",
       "      <td>Manual</td>\n",
       "      <td>First Owner</td>\n",
       "    </tr>\n",
       "    <tr>\n",
       "      <th>2</th>\n",
       "      <td>Hyundai Verna 1.6 SX</td>\n",
       "      <td>Hyundai</td>\n",
       "      <td>2012</td>\n",
       "      <td>600000</td>\n",
       "      <td>100000</td>\n",
       "      <td>Diesel</td>\n",
       "      <td>Individual</td>\n",
       "      <td>Manual</td>\n",
       "      <td>First Owner</td>\n",
       "    </tr>\n",
       "    <tr>\n",
       "      <th>3</th>\n",
       "      <td>Datsun RediGO T Option</td>\n",
       "      <td>Datsun</td>\n",
       "      <td>2017</td>\n",
       "      <td>250000</td>\n",
       "      <td>46000</td>\n",
       "      <td>Petrol</td>\n",
       "      <td>Individual</td>\n",
       "      <td>Manual</td>\n",
       "      <td>First Owner</td>\n",
       "    </tr>\n",
       "    <tr>\n",
       "      <th>4</th>\n",
       "      <td>Honda Amaze VX i-DTEC</td>\n",
       "      <td>Honda</td>\n",
       "      <td>2014</td>\n",
       "      <td>450000</td>\n",
       "      <td>141000</td>\n",
       "      <td>Diesel</td>\n",
       "      <td>Individual</td>\n",
       "      <td>Manual</td>\n",
       "      <td>Second Owner</td>\n",
       "    </tr>\n",
       "  </tbody>\n",
       "</table>\n",
       "</div>"
      ],
      "text/plain": [
       "                       name    Brand  year  selling_price  km_driven    fuel  \\\n",
       "0             Maruti 800 AC   Maruti  2007          60000      70000  Petrol   \n",
       "1  Maruti Wagon R LXI Minor   Maruti  2007         135000      50000  Petrol   \n",
       "2      Hyundai Verna 1.6 SX  Hyundai  2012         600000     100000  Diesel   \n",
       "3    Datsun RediGO T Option   Datsun  2017         250000      46000  Petrol   \n",
       "4     Honda Amaze VX i-DTEC    Honda  2014         450000     141000  Diesel   \n",
       "\n",
       "  seller_type transmission         owner  \n",
       "0  Individual       Manual   First Owner  \n",
       "1  Individual       Manual   First Owner  \n",
       "2  Individual       Manual   First Owner  \n",
       "3  Individual       Manual   First Owner  \n",
       "4  Individual       Manual  Second Owner  "
      ]
     },
     "execution_count": 3,
     "metadata": {},
     "output_type": "execute_result"
    }
   ],
   "source": [
    "df=pd.read_csv('CAR_DETAILS.csv')\n",
    "print(type(df))\n",
    "df.head()"
   ]
  },
  {
   "cell_type": "code",
   "execution_count": null,
   "id": "543d2d85",
   "metadata": {},
   "outputs": [],
   "source": [
    "df.shape"
   ]
  },
  {
   "cell_type": "markdown",
   "id": "67627b7f",
   "metadata": {},
   "source": [
    "### Data Preprocessing"
   ]
  },
  {
   "cell_type": "markdown",
   "id": "bcf62383",
   "metadata": {},
   "source": [
    "#### 1) Check the columns name"
   ]
  },
  {
   "cell_type": "code",
   "execution_count": null,
   "id": "f69136df",
   "metadata": {},
   "outputs": [],
   "source": [
    "df.columns"
   ]
  },
  {
   "cell_type": "markdown",
   "id": "927c6ba4",
   "metadata": {},
   "source": [
    "#### 2) Check the information about dataset"
   ]
  },
  {
   "cell_type": "code",
   "execution_count": null,
   "id": "56e3e9dd",
   "metadata": {},
   "outputs": [],
   "source": [
    "df.info()"
   ]
  },
  {
   "cell_type": "markdown",
   "id": "fb24e2ed",
   "metadata": {},
   "source": [
    " #### Check the Duplicate Values"
   ]
  },
  {
   "cell_type": "code",
   "execution_count": null,
   "id": "c3f3f187",
   "metadata": {},
   "outputs": [],
   "source": [
    "df.duplicated().sum()                           "
   ]
  },
  {
   "cell_type": "markdown",
   "id": "1fd56066",
   "metadata": {},
   "source": [
    " #### Drop the Duplicate values"
   ]
  },
  {
   "cell_type": "code",
   "execution_count": null,
   "id": "72ded059",
   "metadata": {},
   "outputs": [],
   "source": [
    "df.drop_duplicates(inplace=True)                "
   ]
  },
  {
   "cell_type": "markdown",
   "id": "c0898a2a",
   "metadata": {},
   "source": [
    "#### Check shape"
   ]
  },
  {
   "cell_type": "code",
   "execution_count": null,
   "id": "0602e275",
   "metadata": {},
   "outputs": [],
   "source": [
    "df.shape                                     "
   ]
  },
  {
   "cell_type": "markdown",
   "id": "96c3acbf",
   "metadata": {},
   "source": [
    "#### Drop the first column   "
   ]
  },
  {
   "cell_type": "code",
   "execution_count": null,
   "id": "3e05b29a",
   "metadata": {},
   "outputs": [],
   "source": [
    "df.drop(['name'],inplace=True,axis=1)  "
   ]
  },
  {
   "cell_type": "code",
   "execution_count": null,
   "id": "10f6c58b",
   "metadata": {},
   "outputs": [],
   "source": [
    "df.columns"
   ]
  },
  {
   "cell_type": "markdown",
   "id": "30b705ea",
   "metadata": {},
   "source": [
    "### EDA"
   ]
  },
  {
   "cell_type": "markdown",
   "id": "65921b1c",
   "metadata": {},
   "source": [
    "#### Depict count of top 7 Brand on countplot"
   ]
  },
  {
   "cell_type": "code",
   "execution_count": null,
   "id": "dce3a2c8",
   "metadata": {},
   "outputs": [],
   "source": [
    "plt.figure(figsize=(4,4))\n",
    "sns.countplot(y=df['Brand'],order=df['Brand'].value_counts().sort_values(ascending=False)[:7].index)\n",
    "plt.title('Top 7 Brand')\n",
    "plt.show()"
   ]
  },
  {
   "cell_type": "markdown",
   "id": "7fdd7573",
   "metadata": {},
   "source": [
    "#### Inference\n",
    "1)The most car used is Maruti"
   ]
  },
  {
   "cell_type": "markdown",
   "id": "032d0dc3",
   "metadata": {},
   "source": [
    "#### Depict count of top 4 fuel car on countplot"
   ]
  },
  {
   "cell_type": "code",
   "execution_count": null,
   "id": "ac0f7ff2",
   "metadata": {},
   "outputs": [],
   "source": [
    "plt.figure(figsize=(4,4))\n",
    "sns.countplot(y=df['fuel'],order=df['fuel'].value_counts().sort_values(ascending=False)[:4].index)\n",
    "plt.title('Top 4 fuel car')\n",
    "plt.show()"
   ]
  },
  {
   "cell_type": "markdown",
   "id": "10f410ba",
   "metadata": {},
   "source": [
    "#### Inference\n",
    "1)The most fuel used is Petrol"
   ]
  },
  {
   "cell_type": "markdown",
   "id": "51c5648b",
   "metadata": {},
   "source": [
    "#### Boxplot of  brand name with selling price"
   ]
  },
  {
   "cell_type": "code",
   "execution_count": null,
   "id": "8e9f9be4",
   "metadata": {},
   "outputs": [],
   "source": [
    "sns.boxplot(x=df['Brand'],y=df['selling_price'])\n",
    "plt.xticks(rotation=90)\n",
    "plt.show()"
   ]
  },
  {
   "cell_type": "markdown",
   "id": "2441a310",
   "metadata": {},
   "source": [
    "#### Corelation"
   ]
  },
  {
   "cell_type": "code",
   "execution_count": null,
   "id": "3c479280",
   "metadata": {},
   "outputs": [],
   "source": [
    "plt.figure(figsize=(4,4))\n",
    "corr=df.corr()\n",
    "sns.heatmap(corr,annot=True,cmap='RdBu')\n",
    "plt.show()"
   ]
  },
  {
   "cell_type": "code",
   "execution_count": null,
   "id": "46846da5",
   "metadata": {},
   "outputs": [],
   "source": [
    "plt.figure(figsize=(4,4))\n",
    "corr=df.corr()\n",
    "sns.heatmap(corr[abs(corr)>0.4],annot=True,cmap='RdBu')\n",
    "plt.show()"
   ]
  },
  {
   "cell_type": "markdown",
   "id": "6ac427b9",
   "metadata": {},
   "source": [
    "#### Distribution of plots of selling price"
   ]
  },
  {
   "cell_type": "code",
   "execution_count": null,
   "id": "cb1b614e",
   "metadata": {},
   "outputs": [],
   "source": [
    "sns.distplot(df['selling_price'])\n",
    "plt.show()"
   ]
  },
  {
   "cell_type": "code",
   "execution_count": null,
   "id": "2bcf87b0",
   "metadata": {},
   "outputs": [],
   "source": [
    "r4=df['year'].value_counts().sort_values(ascending=False)[:7]\n",
    "r4"
   ]
  },
  {
   "cell_type": "code",
   "execution_count": null,
   "id": "fd7a6ba1",
   "metadata": {},
   "outputs": [],
   "source": [
    "r4.index"
   ]
  },
  {
   "cell_type": "code",
   "execution_count": null,
   "id": "e8f366c7",
   "metadata": {},
   "outputs": [],
   "source": [
    "fig,(ax2,ax3)=plt.subplots(1,2,figsize=(10,5))\n",
    "\n",
    "\n",
    "ax2.plot(df['km_driven'],df['Brand'],color='maroon',lw=2,marker='o')\n",
    "ax2.set_title('Brand  vs Km_driven',color='blue')\n",
    "ax2.set_xlabel('Km_driven')\n",
    "ax2.set_ylabel('Brand Name')\n",
    "ax2.grid()\n",
    "\n",
    "ax3.pie(x=r4.values,labels=r4.index,\n",
    "       colors=['red','blue','yellow','green','cyan','deeppink','dodgerblue','orange','orange','purple','maroon'],\n",
    "       autopct='%.2f%%',shadow=True,counterclock=False)\n",
    "ax3.set_title('Selling Price ',color='blue',fontsize=15)\n",
    "ax3.legend(loc='right',bbox_to_anchor=(1,1,0.6,-0.5))\n",
    "\n",
    "plt.show()"
   ]
  },
  {
   "cell_type": "markdown",
   "id": "8faa82a6",
   "metadata": {},
   "source": [
    "#### Compute x(independent features) and y(dependent features)"
   ]
  },
  {
   "cell_type": "code",
   "execution_count": null,
   "id": "4711a30b",
   "metadata": {},
   "outputs": [],
   "source": [
    "x=df.drop('selling_price',axis=1)\n",
    "y=df['selling_price']\n",
    "print(x.shape)\n",
    "print(y.shape)\n",
    "print(type(x))\n",
    "print(type(y))"
   ]
  },
  {
   "cell_type": "markdown",
   "id": "94d4707c",
   "metadata": {},
   "source": [
    "#### Split data into train and test"
   ]
  },
  {
   "cell_type": "code",
   "execution_count": null,
   "id": "0ea5e0f4",
   "metadata": {},
   "outputs": [],
   "source": [
    "from sklearn.model_selection import train_test_split"
   ]
  },
  {
   "cell_type": "code",
   "execution_count": null,
   "id": "6afffd56",
   "metadata": {},
   "outputs": [],
   "source": [
    "x_train,x_test,y_train,y_test=train_test_split(x,y,test_size=0.35,random_state=19)\n",
    "print(x_train.shape)\n",
    "print(y_train.shape)\n",
    "print(x_test.shape)\n",
    "print(y_test.shape)\n",
    "print(type(x_train))\n",
    "print(type(y_train))\n",
    "print(type(x_test))\n",
    "print(type(y_test))"
   ]
  },
  {
   "cell_type": "markdown",
   "id": "56985d9b",
   "metadata": {},
   "source": [
    "#### Create function to compute MSE,MAE,Triel and test score"
   ]
  },
  {
   "cell_type": "code",
   "execution_count": null,
   "id": "3574cbd2",
   "metadata": {},
   "outputs": [],
   "source": [
    "from sklearn.metrics import mean_absolute_error,mean_squared_error,r2_score"
   ]
  },
  {
   "cell_type": "code",
   "execution_count": null,
   "id": "ca0bf385",
   "metadata": {},
   "outputs": [],
   "source": [
    "def reg_eval_matrics(ytest,ypred):\n",
    "    mae=mean_absolute_error(ytest,ypred)\n",
    "    mse=mean_squared_error(ytest,ypred)\n",
    "    rmse=np.sqrt(mse)\n",
    "    r2=r2_score(ytest,ypred)\n",
    "    print('MAE',mae)\n",
    "    print('MSE',mse)\n",
    "    print('Rmse',rmse)\n",
    "    print('R2 score',r2)\n",
    "       \n",
    "def mscore(model):\n",
    "    print(\"Training Score\",model.score(x_train,y_train))\n",
    "    print(\"Testing Score\",model.score(x_test,y_test))\n",
    "    "
   ]
  },
  {
   "cell_type": "markdown",
   "id": "d8680a13",
   "metadata": {},
   "source": [
    "#### Compute confusion_matrics, classifiation_report,accuracy_score"
   ]
  },
  {
   "cell_type": "code",
   "execution_count": null,
   "id": "0483790a",
   "metadata": {},
   "outputs": [],
   "source": [
    "#from sklearn.metrics import confusion_matrix,classification_report,accuracy_score "
   ]
  },
  {
   "cell_type": "code",
   "execution_count": null,
   "id": "1ce671ec",
   "metadata": {},
   "outputs": [],
   "source": [
    "#def eval_mat(ytest,ypred):\n",
    "    #cm=confusion_matrix(ytest,ypred)\n",
    "    #print('confusion_matrix\\n',cm)\n",
    "    #print('classification_report\\n',classification_report(ytest,ypred))\n",
    "    #print('accuracy_report\\n',accuracy_score(ytest,ypred))"
   ]
  },
  {
   "cell_type": "markdown",
   "id": "1554a4ad",
   "metadata": {},
   "source": [
    "#### Import ML model libraries"
   ]
  },
  {
   "cell_type": "code",
   "execution_count": null,
   "id": "de5568a2",
   "metadata": {},
   "outputs": [],
   "source": [
    "from sklearn.linear_model import LinearRegression,Ridge,Lasso\n",
    "from sklearn.ensemble import RandomForestClassifier\n",
    "from sklearn.tree import DecisionTreeClassifier\n",
    "from sklearn.ensemble import AdaBoostClassifier"
   ]
  },
  {
   "cell_type": "code",
   "execution_count": null,
   "id": "5c34111f",
   "metadata": {},
   "outputs": [],
   "source": [
    "from sklearn.preprocessing import OneHotEncoder\n",
    "from sklearn.compose import ColumnTransformer\n",
    "from sklearn.pipeline import Pipeline"
   ]
  },
  {
   "cell_type": "code",
   "execution_count": null,
   "id": "af785e1c",
   "metadata": {},
   "outputs": [],
   "source": [
    "x_train.dtypes"
   ]
  },
  {
   "cell_type": "markdown",
   "id": "dbec7eaf",
   "metadata": {},
   "source": [
    "#### 1)  LinearRegression"
   ]
  },
  {
   "cell_type": "code",
   "execution_count": null,
   "id": "2ed51343",
   "metadata": {
    "scrolled": false
   },
   "outputs": [],
   "source": [
    "step1=ColumnTransformer(transformers=[('ohe',OneHotEncoder(drop='first',sparse=False),[0,3,4,5,6])],remainder='passthrough')\n",
    "step2=LinearRegression()\n",
    "\n",
    "pipe_lr=Pipeline([('step1',step1),('step2',step2)])\n",
    "\n",
    "pipe_lr.fit(x_train,y_train)\n",
    "\n",
    "ypred_lr=pipe_lr.predict(x_test)\n",
    "\n",
    "reg_eval_matrics(y_test,ypred_lr)\n",
    "\n",
    "mscore(pipe_lr)"
   ]
  },
  {
   "cell_type": "markdown",
   "id": "e51f2bb6",
   "metadata": {},
   "source": [
    "#### Ridge Regression"
   ]
  },
  {
   "cell_type": "code",
   "execution_count": null,
   "id": "870ac0e0",
   "metadata": {},
   "outputs": [],
   "source": [
    "step1=ColumnTransformer(transformers=[('ohe',OneHotEncoder(drop='first',sparse=False),[0,3,4,5,6])],remainder='passthrough')\n",
    "step2=Ridge(alpha=2.41)\n",
    "\n",
    "pipe_rid=Pipeline([('step1',step1),('step2',step2)])\n",
    "\n",
    "pipe_rid.fit(x_train,y_train)\n",
    "\n",
    "ypred_rid=pipe_rid.predict(x_test)\n",
    "\n",
    "reg_eval_matrics(y_test,ypred_rid)\n",
    "\n",
    "mscore(pipe_rid)"
   ]
  },
  {
   "cell_type": "markdown",
   "id": "8b2e5068",
   "metadata": {},
   "source": [
    " #### Lasso regression"
   ]
  },
  {
   "cell_type": "code",
   "execution_count": null,
   "id": "e1362246",
   "metadata": {},
   "outputs": [],
   "source": [
    "step1=ColumnTransformer(transformers=[('ohe',OneHotEncoder(drop='first',sparse=False),[0,3,4,5,6])],remainder='passthrough')\n",
    "step2=Lasso(alpha=0.2)\n",
    "\n",
    "pipe_la=Pipeline([('step1',step1),('step2',step2)])\n",
    "\n",
    "pipe_la.fit(x_train,y_train)\n",
    "\n",
    "ypred_la=pipe_la.predict(x_test)\n",
    "\n",
    "reg_eval_matrics(y_test,ypred_la)\n",
    "\n",
    "mscore(pipe_la)"
   ]
  },
  {
   "cell_type": "markdown",
   "id": "9dfc3da8",
   "metadata": {},
   "source": [
    "#### 2) Random Forest Classifire Model"
   ]
  },
  {
   "cell_type": "code",
   "execution_count": null,
   "id": "8f2e1db1",
   "metadata": {},
   "outputs": [],
   "source": [
    "step1=ColumnTransformer(transformers=[('ohe',OneHotEncoder(drop='first',sparse=False),[0,3,4,5,6])],remainder='passthrough')\n",
    "step2= RandomForestClassifier(n_estimators=100,criterion='gini',max_depth=11,min_samples_split=7)\n",
    "\n",
    "pipe_rd=Pipeline([('step1',step1),('step2',step2)])\n",
    "\n",
    "pipe_rd.fit(x_train,y_train)\n",
    "\n",
    "ypred_rd=pipe_rd.predict(x_test)\n",
    "\n",
    "reg_eval_matrics(y_test,ypred_rd)\n",
    "\n",
    "mscore(pipe_rd)\n"
   ]
  },
  {
   "cell_type": "markdown",
   "id": "132cb0d0",
   "metadata": {},
   "source": [
    "#### 3)Decision Tree Classifier model"
   ]
  },
  {
   "cell_type": "code",
   "execution_count": null,
   "id": "8da6b11d",
   "metadata": {},
   "outputs": [],
   "source": [
    "step1=ColumnTransformer(transformers=[('ohe',OneHotEncoder(drop='first',sparse=False),[0,3,4,5,6])],remainder='passthrough')\n",
    "step2= DecisionTreeClassifier(max_depth=3,criterion='entropy',min_samples_split=8)\n",
    "\n",
    "pipe_dt=Pipeline([('step1',step1),('step2',step2)])\n",
    "\n",
    "pipe_dt.fit(x_train,y_train)\n",
    "\n",
    "ypred_dt=pipe_dt.predict(x_test)\n",
    "\n",
    "reg_eval_matrics(y_test,ypred_dt)\n",
    "\n",
    "mscore(pipe_dt)\n"
   ]
  },
  {
   "cell_type": "markdown",
   "id": "724e6492",
   "metadata": {},
   "source": [
    "#### AdaBoost Classifier"
   ]
  },
  {
   "cell_type": "code",
   "execution_count": null,
   "id": "ab71ebc5",
   "metadata": {},
   "outputs": [],
   "source": [
    "step1=ColumnTransformer(transformers=[('ohe',OneHotEncoder(drop='first',sparse=False),[0,3,4,5,6])],remainder='passthrough')\n",
    "step2= AdaBoostClassifier()\n",
    "\n",
    "pipe_ad=Pipeline([('step1',step1),('step2',step2)])\n",
    "\n",
    "pipe_ad.fit(x_train,y_train)\n",
    "\n",
    "ypred_ad=pipe_ad.predict(x_test)\n",
    "\n",
    "reg_eval_matrics(y_test,ypred_ad)\n",
    "\n",
    "mscore(pipe_ad)"
   ]
  },
  {
   "cell_type": "markdown",
   "id": "5aeea070",
   "metadata": {},
   "source": [
    "#### Save and Load the  Model"
   ]
  },
  {
   "cell_type": "code",
   "execution_count": null,
   "id": "89d83e88",
   "metadata": {},
   "outputs": [],
   "source": [
    "import pickle"
   ]
  },
  {
   "cell_type": "code",
   "execution_count": null,
   "id": "01c1d722",
   "metadata": {},
   "outputs": [],
   "source": [
    "pickle.dump(pipe_lr,open('lr_model.pkl','wb'))\n",
    "pickle.dump(df,open('data.pkl','wb'))"
   ]
  },
  {
   "cell_type": "code",
   "execution_count": null,
   "id": "a7bbedac",
   "metadata": {},
   "outputs": [],
   "source": [
    "df.head(20)"
   ]
  },
  {
   "cell_type": "code",
   "execution_count": null,
   "id": "700855e7",
   "metadata": {},
   "outputs": [],
   "source": [
    "df['fuel'].value_counts()"
   ]
  },
  {
   "cell_type": "code",
   "execution_count": null,
   "id": "ea5a63b6",
   "metadata": {},
   "outputs": [],
   "source": [
    "df.dtypes\n"
   ]
  },
  {
   "cell_type": "code",
   "execution_count": null,
   "id": "b9698f20",
   "metadata": {},
   "outputs": [],
   "source": []
  }
 ],
 "metadata": {
  "kernelspec": {
   "display_name": "Python 3 (ipykernel)",
   "language": "python",
   "name": "python3"
  },
  "language_info": {
   "codemirror_mode": {
    "name": "ipython",
    "version": 3
   },
   "file_extension": ".py",
   "mimetype": "text/x-python",
   "name": "python",
   "nbconvert_exporter": "python",
   "pygments_lexer": "ipython3",
   "version": "3.9.13"
  }
 },
 "nbformat": 4,
 "nbformat_minor": 5
}
